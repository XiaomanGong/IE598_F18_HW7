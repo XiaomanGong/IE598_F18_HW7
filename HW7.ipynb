{
 "cells": [
  {
   "cell_type": "code",
   "execution_count": 56,
   "metadata": {},
   "outputs": [
    {
     "name": "stdout",
     "output_type": "stream",
     "text": [
      "n_estimators = 1 ; CV score(in sample)= 0.8542 ; test score = 0.8889\n",
      "n_estimators = 10 ; CV score(in sample)= 0.9431 ; test score = 0.9444\n",
      "n_estimators = 50 ; CV score(in sample)= 0.9749 ; test score = 1.0000\n",
      "n_estimators = 100 ; CV score(in sample)= 0.9749 ; test score = 1.0000\n",
      "n_estimators = 500 ; CV score(in sample)= 0.9815 ; test score = 1.0000\n",
      "n_estimators = 1000 ; CV score(in sample)= 0.9815 ; test score = 1.0000\n"
     ]
    }
   ],
   "source": [
    "import pandas as pd\n",
    "import numpy as np\n",
    "from sklearn.ensemble import RandomForestClassifier\n",
    "from sklearn.model_selection import train_test_split\n",
    "from sklearn.model_selection import cross_val_score\n",
    "import matplotlib.pyplot as plt\n",
    "\n",
    "df=pd.read_csv('https://archive.ics.uci.edu/ml/'\n",
    "        'machine-learning-databases/wine/wine.data',\n",
    "         header=None)\n",
    "df.columns = ['Class label', 'Alcohol', 'Malic acid', 'Ash', 'Alcalinity of ash', 'Magnesium', \n",
    "              'Total phenols', 'Flavanoids', 'Nonflavanoid phenols', 'Proanthocyanins', \n",
    "              'Color intensity', 'Hue', 'OD280/OD315 of diluted wines', 'Proline']\n",
    "X = df.iloc[:, 1:].values\n",
    "y = df.iloc[:,0].values\n",
    "X_train, X_test, y_train, y_test = train_test_split(X, y, test_size=0.1,stratify=y,random_state=42)\n",
    "df.head()\n",
    "\n",
    "## PART 1 RF estimators\n",
    "\n",
    "for i in [1,10,50,100,500,1000]:\n",
    "    rf=RandomForestClassifier(criterion='gini', n_estimators=i,random_state=1,n_jobs=-1)\n",
    "    rf.fit(X_train,y_train)\n",
    "    scores=cross_val_score(rf,X_train,y_train,cv=10)\n",
    "    print(\"n_estimators =\",i,\"; CV score(in sample)=\",\"%.4f\"%np.mean(scores),\"; test score =\", \"%.4f\"%rf.score(X_test,y_test))\n",
    "  \n"
   ]
  },
  {
   "cell_type": "code",
   "execution_count": 57,
   "metadata": {},
   "outputs": [
    {
     "name": "stdout",
     "output_type": "stream",
     "text": [
      " 1) Proline                        0.207577\n",
      " 2) Color intensity                0.160063\n",
      " 3) Flavanoids                     0.143147\n",
      " 4) Alcohol                        0.109750\n",
      " 5) OD280/OD315 of diluted wines   0.098841\n",
      " 6) Hue                            0.067972\n",
      " 7) Magnesium                      0.054609\n",
      " 8) Malic acid                     0.051281\n",
      " 9) Total phenols                  0.030228\n",
      "10) Proanthocyanins                0.027812\n",
      "11) Alcalinity of ash              0.026078\n",
      "12) Ash                            0.011610\n",
      "13) Nonflavanoid phenols           0.011031\n"
     ]
    },
    {
     "data": {
      "image/png": "[encoded data removed]",
      "text/plain": [
       "<Figure size 432x288 with 1 Axes>"
      ]
     },
     "metadata": {},
     "output_type": "display_data"
    }
   ],
   "source": [
    "# PART 2 feature importance\n",
    "\n",
    "feat_labels=df.columns[1:]\n",
    "rf=RandomForestClassifier(n_estimators=500,random_state=1)\n",
    "forest.fit(X_train,y_train)\n",
    "\n",
    "importances=forest.feature_importances_\n",
    "\n",
    "indices=np.argsort(importances)[::-1]\n",
    "\n",
    "for f in range(X_train.shape[1]):\n",
    "    print(\"%2d) %-*s %f\" % (f + 1, 30, \n",
    "                            feat_labels[indices[f]], \n",
    "                            importances[indices[f]]))\n",
    "\n",
    "    \n",
    "plt.title('Feature Importances')\n",
    "plt.bar(range(X_train.shape[1]), \n",
    "        importances[indices],\n",
    "        align='center')\n",
    "plt.xticks(range(X_train.shape[1]),feat_labels,rotation=90)\n",
    "plt.xlim([-1,X_train.shape[1]])\n",
    "plt.tight_layout()\n",
    "plt.savefig('feature importances.png')\n",
    "plt.show()\n"
   ]
  },
  {
   "cell_type": "code",
   "execution_count": 39,
   "metadata": {},
   "outputs": [
    {
     "name": "stdout",
     "output_type": "stream",
     "text": [
      "My name is Xiaoman Gong\n",
      "My NetID is: xiaoman5\n",
      "I hereby certify that I have read the University policy on Academic Integrity and that I am not in violation.\n"
     ]
    }
   ],
   "source": [
    "print(\"My name is Xiaoman Gong\")\n",
    "print(\"My NetID is: xiaoman5\")\n",
    "print(\"I hereby certify that I have read the University policy on Academic Integrity and that I am not in violation.\")"
   ]
  },
  {
   "cell_type": "code",
   "execution_count": null,
   "metadata": {},
   "outputs": [],
   "source": []
  }
 ],
 "metadata": {
  "kernelspec": {
   "display_name": "Python 3",
   "language": "python",
   "name": "python3"
  },
  "language_info": {
   "codemirror_mode": {
    "name": "ipython",
    "version": 3
   },
   "file_extension": ".py",
   "mimetype": "text/x-python",
   "name": "python",
   "nbconvert_exporter": "python",
   "pygments_lexer": "ipython3",
   "version": "3.6.5"
  }
 },
 "nbformat": 4,
 "nbformat_minor": 2
}
