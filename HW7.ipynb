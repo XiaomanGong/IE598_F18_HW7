{
 "cells": [
  {
   "cell_type": "code",
   "execution_count": 34,
   "metadata": {},
   "outputs": [
    {
     "name": "stdout",
     "output_type": "stream",
     "text": [
      "n_estimators = 1 ; CV score(in sample)= 0.9333 ; test score = 0.9167\n",
      "n_estimators = 10 ; CV score(in sample)= 0.9600 ; test score = 1.0000\n",
      "n_estimators = 50 ; CV score(in sample)= 0.9733 ; test score = 1.0000\n",
      "n_estimators = 100 ; CV score(in sample)= 0.9800 ; test score = 1.0000\n",
      "n_estimators = 500 ; CV score(in sample)= 0.9800 ; test score = 1.0000\n",
      "n_estimators = 1000 ; CV score(in sample)= 0.9800 ; test score = 1.0000\n"
     ]
    }
   ],
   "source": [
    "import pandas as pd\n",
    "import numpy as np\n",
    "from sklearn.ensemble import RandomForestClassifier\n",
    "from sklearn.model_selection import train_test_split\n",
    "from sklearn.model_selection import cross_val_score\n",
    "import matplotlib.pyplot as plt\n",
    "\n",
    "df=pd.read_csv('https://archive.ics.uci.edu/ml/'\n",
    "        'machine-learning-databases/wine/wine.data',\n",
    "         header=None)\n",
    "df.columns = ['Class label', 'Alcohol', 'Malic acid', 'Ash', 'Alcalinity of ash', 'Magnesium', 'Total phenols', \n",
    "                  'Flavanoids', 'Nonflavanoid phenols', 'Proanthocyanins', 'Color intensity', 'Hue', \n",
    "                  'OD280/OD315 of diluted wines', 'Proline']\n",
    "X = df.iloc[:, 1:].values\n",
    "y = df.iloc[:,0].values\n",
    "X_train, X_test, y_train, y_test = train_test_split(X, y, test_size=0.2,stratify=y,random_state=42)\n",
    "df.head()\n",
    "\n",
    "## PART 1 RF estimators\n",
    "\n",
    "for i in [1,10,50,100,500,1000]:\n",
    "    rf=RandomForestClassifier(criterion='gini', n_estimators=i,random_state=1,n_jobs=-1)\n",
    "    rf.fit(X_train,y_train)\n",
    "    scores=cross_val_score(rf,X_train,y_train,cv=10)\n",
    "    print(\"n_estimators =\",i,\"; CV score(in sample)=\",\"%.4f\"%np.mean(scores),\"; test score =\", \"%.4f\"%rf.score(X_test,y_test))\n",
    "  "
   ]
  },
  {
   "cell_type": "code",
   "execution_count": 38,
   "metadata": {},
   "outputs": [
    {
     "name": "stdout",
     "output_type": "stream",
     "text": [
      " 1) Color intensity                0.192401\n",
      " 2) Proline                        0.186857\n",
      " 3) Flavanoids                     0.155700\n",
      " 4) OD280/OD315 of diluted wines   0.110542\n",
      " 5) Alcohol                        0.103741\n",
      " 6) Total phenols                  0.058002\n",
      " 7) Hue                            0.053172\n",
      " 8) Alcalinity of ash              0.035665\n",
      " 9) Magnesium                      0.029377\n",
      "10) Malic acid                     0.028798\n",
      "11) Nonflavanoid phenols           0.020893\n",
      "12) Ash                            0.016274\n",
      "13) Proanthocyanins                0.008579\n"
     ]
    },
    {
     "data": {
      "image/png": "[encoded data removed]",
      "text/plain": [
       "<Figure size 432x288 with 1 Axes>"
      ]
     },
     "metadata": {},
     "output_type": "display_data"
    }
   ],
   "source": [
    "## PART 2 feature importance\n",
    "\n",
    "feat_labels=df.columns[1:]\n",
    "rf=RandomForestClassifier(n_estimators=100,random_state=1)\n",
    "forest.fit(X_train,y_train)\n",
    "\n",
    "importances=forest.feature_importances_\n",
    "\n",
    "indices=np.argsort(importances)[::-1]\n",
    "for f in range(X_train.shape[1]):\n",
    "    print(\"%2d) %-*s %f\" % (f + 1, 30, \n",
    "                            feat_labels[indices[f]], \n",
    "                            importances[indices[f]]))\n",
    "\n",
    "plt.title('Feature Importances')\n",
    "plt.bar(range(X_train.shape[1]), \n",
    "        importances[indices],\n",
    "        align='center')\n",
    "plt.xticks(range(X_train.shape[1]),feat_labels,rotation=90)\n",
    "plt.xlim([-1,X_train.shape[1]])\n",
    "plt.savefig('feature importances.png')\n",
    "plt.show()\n",
    "   "
   ]
  },
  {
   "cell_type": "code",
   "execution_count": 39,
   "metadata": {},
   "outputs": [
    {
     "name": "stdout",
     "output_type": "stream",
     "text": [
      "My name is Xiaoman Gong\n",
      "My NetID is: xiaoman5\n",
      "I hereby certify that I have read the University policy on Academic Integrity and that I am not in violation.\n"
     ]
    }
   ],
   "source": [
    "print(\"My name is Xiaoman Gong\")\n",
    "print(\"My NetID is: xiaoman5\")\n",
    "print(\"I hereby certify that I have read the University policy on Academic Integrity and that I am not in violation.\")"
   ]
  },
  {
   "cell_type": "code",
   "execution_count": null,
   "metadata": {},
   "outputs": [],
   "source": []
  },
  {
   "cell_type": "code",
   "execution_count": null,
   "metadata": {},
   "outputs": [],
   "source": []
  }
 ],
 "metadata": {
  "kernelspec": {
   "display_name": "Python 3",
   "language": "python",
   "name": "python3"
  },
  "language_info": {
   "codemirror_mode": {
    "name": "ipython",
    "version": 3
   },
   "file_extension": ".py",
   "mimetype": "text/x-python",
   "name": "python",
   "nbconvert_exporter": "python",
   "pygments_lexer": "ipython3",
   "version": "3.6.5"
  }
 },
 "nbformat": 4,
 "nbformat_minor": 2
}
